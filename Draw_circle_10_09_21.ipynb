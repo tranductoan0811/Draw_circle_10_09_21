{
 "cells": [
  {
   "cell_type": "code",
   "execution_count": 1,
   "id": "8e77028a",
   "metadata": {},
   "outputs": [],
   "source": [
    "import turtle"
   ]
  },
  {
   "cell_type": "code",
   "execution_count": 2,
   "id": "3e796ada",
   "metadata": {},
   "outputs": [],
   "source": [
    "pen = turtle.Turtle()"
   ]
  },
  {
   "cell_type": "code",
   "execution_count": 11,
   "id": "01e02d4a",
   "metadata": {},
   "outputs": [
    {
     "data": {
      "text/plain": [
       "<function turtle.mainloop()>"
      ]
     },
     "execution_count": 11,
     "metadata": {},
     "output_type": "execute_result"
    }
   ],
   "source": [
    "import turtle\n",
    "pen = turtle.Turtle()\n",
    "turtle.pensize(5) #đặt kích thước viền cho hình tròn\n",
    "turtle.pencolor(\"#3375AE\") #đặt màu sắc cho viền hình tròn\n",
    "turtle.fillcolor(\"#CCD8E2\") #đặt màu nền cho hình tròn\n",
    "turtle.begin_fill()\n",
    "turtle.circle(100) #đặt bán kính của hình tròn là 100\n",
    "turtle.end_fill()\n",
    "turtle.done"
   ]
  },
  {
   "cell_type": "code",
   "execution_count": 3,
   "id": "3b50034f",
   "metadata": {},
   "outputs": [
    {
     "data": {
      "text/plain": [
       "<function turtle.mainloop()>"
      ]
     },
     "execution_count": 3,
     "metadata": {},
     "output_type": "execute_result"
    }
   ],
   "source": [
    "import turtle\n",
    "pen = turtle.Turtle()\n",
    "turtle.pensize(5) #đặt kích thước nét vẽ\n",
    "turtle.pencolor(\"#368BD1\") #đặt màu cho đường viền hình tròn\n",
    "pen.goto(-40,120) #tùy chỉnh điểm bắt đầu\n",
    "turtle.fillcolor(\"#527D7C\") #tô màu nền hình tròn\n",
    "turtle.begin_fill()\n",
    "turtle.circle(200) #đặt bán kính hình tròn\n",
    "turtle.end_fill()\n",
    "turtle.done"
   ]
  }
 ],
 "metadata": {
  "kernelspec": {
   "display_name": "Python 3 (ipykernel)",
   "language": "python",
   "name": "python3"
  },
  "language_info": {
   "codemirror_mode": {
    "name": "ipython",
    "version": 3
   },
   "file_extension": ".py",
   "mimetype": "text/x-python",
   "name": "python",
   "nbconvert_exporter": "python",
   "pygments_lexer": "ipython3",
   "version": "3.9.6"
  }
 },
 "nbformat": 4,
 "nbformat_minor": 5
}
